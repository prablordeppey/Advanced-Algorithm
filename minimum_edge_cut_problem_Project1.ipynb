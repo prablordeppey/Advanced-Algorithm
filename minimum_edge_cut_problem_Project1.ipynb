{
    "cells": [
        {
            "cell_type": "markdown",
            "metadata": {},
            "source": [
                "## QUESTION\n",
                " 15 – Find a minimum cut for a given undirected graph G(V, E), with n vertices and m edges. A minimum cut of G is a partition of the graph's vertices into two complementary sets S and T, such that the number of edges between the set S and the set T is as small as possible."
            ]
        },
        {
            "cell_type": "markdown",
            "metadata": {},
            "source": [
                "# LIBRARIES\n"
            ]
        },
        {
            "cell_type": "code",
            "execution_count": null,
            "metadata": {},
            "outputs": [],
            "source": []
        },
        {
            "cell_type": "code",
            "execution_count": 2,
            "metadata": {},
            "outputs": [],
            "source": [
                "# AUXILLARY CLASS"
            ]
        },
        {
            "cell_type": "code",
            "execution_count": null,
            "metadata": {},
            "outputs": [],
            "source": []
        },
        {
            "cell_type": "code",
            "execution_count": 3,
            "metadata": {},
            "outputs": [],
            "source": [
                "# MAIN CLASS"
            ]
        },
        {
            "cell_type": "code",
            "execution_count": null,
            "metadata": {},
            "outputs": [],
            "source": []
        },
        {
            "cell_type": "code",
            "execution_count": null,
            "metadata": {},
            "outputs": [],
            "source": [
                "# "
            ]
        }
    ],
    "metadata": {
        "interpreter": {
            "hash": "c11c31f54c6a1524bc46d512b04aae0b7af80f49ff982b19a79f63cf28c4a08a"
        },
        "kernelspec": {
            "display_name": "Python 3.8.8 64-bit ('cryptography': venv)",
            "name": "python3"
        },
        "language_info": {
            "codemirror_mode": {
                "name": "ipython",
                "version": 3
            },
            "file_extension": ".py",
            "mimetype": "text/x-python",
            "name": "python",
            "nbconvert_exporter": "python",
            "pygments_lexer": "ipython3",
            "version": "3.8.8"
        },
        "orig_nbformat": 4
    },
    "nbformat": 4,
    "nbformat_minor": 2
}
