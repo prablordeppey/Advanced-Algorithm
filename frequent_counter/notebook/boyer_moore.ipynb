{
 "cells": [
  {
   "cell_type": "code",
   "execution_count": 1,
   "metadata": {},
   "outputs": [],
   "source": [
    "import numpy as  np\n",
    "from nltk import word_tokenize\n",
    "from nltk.corpus import stopwords\n",
    "import re, time"
   ]
  },
  {
   "cell_type": "code",
   "execution_count": 42,
   "metadata": {},
   "outputs": [],
   "source": [
    "class FrequentCounter:\n",
    "\tdef __init__(self):\n",
    "\t\tself.counter = 0\n",
    "\t\tself.current_candidate = None\n",
    "\t\tself.new_element = None\n",
    "\n",
    "\tdef alg(self):\n",
    "\t\tself.setCurrentCandidate()\n",
    "\t\tself.updateCounter()\n",
    "\n",
    "\tdef initializeRegister(self):\n",
    "\t\t# initializes the register\n",
    "\t\tself.counter = 0\n",
    "\t\tself.current_candidate = None\n",
    "\n",
    "\tdef setCurrentCandidate(self):\n",
    "\t\t# set current candidate to new_element\n",
    "\t\tif (self.counter == 0):\n",
    "\t\t\tself.current_candidate = self.new_element\n",
    "\n",
    "\tdef updateCounter(self):\n",
    "\t\t# if new_element is same as candidate most frequent, increase counter. else, decrease\n",
    "\t\tif (self.new_element == self.current_candidate):\n",
    "\t\t\tself.counter += 1\n",
    "\t\telse:\n",
    "\t\t\tself.counter -= 1\n",
    "\t\t\n",
    "\t\t# initializing register if counter is 0\n",
    "\t\tif self.counter == 0:\n",
    "\t\t\tself.initializeRegister()\n",
    "\t\n",
    "\tdef verifyCandidateIsMostFreq(self):\n",
    "\t\t# go through the stream and count number of candidates\n",
    "\t\t# it is the most frequent if count >= 1+m/2. m is length of stream seen\n",
    "\t\tpass\n",
    "\n",
    "\tdef getMostFrequent(self):\n",
    "\t\t# this could be none, if there isnt, or the actual candidate if there is\n",
    "\t\treturn self.current_candidate\n",
    "\n",
    "\tdef getExactFrequent(self):\n",
    "\t\t\"\"\"computes the exact maximum occurring element in a data stream\n",
    "\n",
    "\t\tReturns:\n",
    "\t\t\ttuple: most frequent word and its corresponding frequency in literary word\n",
    "\t\t\"\"\"\n",
    "\t\t# build register of words and corresponding frequency\n",
    "\t\tword_freq = dict()\n",
    "\t\tfor word in self.stream:\n",
    "\t\t\tif word not in word_freq:\n",
    "\t\t\t\tword_freq.update({word: 1})\n",
    "\t\t\telse:\n",
    "\t\t\t\tword_freq[word] += 1\n",
    "\t\t\n",
    "\t\t# # search for most occuring\n",
    "\t\tmax_count_value = -np.infty\n",
    "\t\tmost_freq = None\n",
    "\t\tfor word in word_freq:\n",
    "\t\t\tfreq = word_freq[word]\n",
    "\t\t\tif freq > max_count_value:\n",
    "\t\t\t\tmax_count_value = freq\n",
    "\t\t\t\tmost_freq = word\n",
    "\t\treturn (most_freq, max_count_value)"
   ]
  },
  {
   "cell_type": "code",
   "execution_count": 66,
   "metadata": {},
   "outputs": [],
   "source": [
    "class StreamAlg(FrequentCounter):\n",
    "\tdef __init__(self, stream):\n",
    "\t\t\"\"\"\n",
    "\t\tParameters:\n",
    "\t\t\tstream [float, int, string]: The list of values to represent a stream\n",
    "\t\t\"\"\"\n",
    "\t\tself.stream = stream\n",
    "\t\tFrequentCounter.__init__(self)\n",
    "\t\tself.init = False\n",
    "\t\tself.exec()\n",
    "\n",
    "\tdef exec(self):\n",
    "\t\t\"\"\"\n",
    "\t\tPasses each value of the data stream to the alg function for register update. \n",
    "\t\t\"\"\"\n",
    "\t\tfor element in self.stream:\n",
    "\t\t\tself.new_element = element\n",
    "\t\t\tself.alg()\n",
    "\n",
    "\t\tprint(f\"Most frequent word is: {self.current_candidate} with counter {self.counter}\")\n",
    "\t\texact = self.getExactFrequent()\n",
    "\t\tprint(f\"Most frequent word: {exact[0]} with frequency: {exact[1]} counts\")"
   ]
  },
  {
   "cell_type": "code",
   "execution_count": 67,
   "metadata": {},
   "outputs": [],
   "source": [
    "def filePreprocessor(file_path):\n",
    "\t\"\"\"formats file content and remove all stop words in the respective language.\n",
    "\n",
    "\tArgs:\n",
    "\t\tfile_path (str): path to literary work\n",
    "\n",
    "\tReturns:\n",
    "\t\tlist: tokenized valid words in the literary work.\n",
    "\t\"\"\"\n",
    "\tfile_language = re.findall('.*-(\\w+).*', file_path)  # get language of literary work\n",
    "\twith open(file_path, 'r', encoding=\"utf-8\") as f:\n",
    "\t\tfile_content = f.readlines()\n",
    "\t\tfile_content = ''.join(file_content).lower()  # convert lines to string\n",
    "\t\tstopset = set(stopwords.words(file_language))  # get all stopwords in respective language\n",
    "\t\ttokens = word_tokenize(file_content)  # convert strings to list\n",
    "\t\treturn [token.lower() for token in tokens if token not in stopset and len(token) > 2]  # perform actual cleanup"
   ]
  },
  {
   "cell_type": "code",
   "execution_count": 69,
   "metadata": {},
   "outputs": [
    {
     "name": "stdout",
     "output_type": "stream",
     "text": [
      "Working on aMidsummerNightsDream-english.txt\n",
      "length of token 9060\n",
      "Most frequent word is: None with counter 0\n",
      "Most frequent word: thou with frequency: 116 counts\n",
      "It took ( 0.424224853515625 ) secs\n",
      "--------------------------------------\n",
      "Working on aMidsummerNightsDream-french.txt\n",
      "length of token 14278\n",
      "Most frequent word is: None with counter 0\n",
      "Most frequent word: the with frequency: 173 counts\n",
      "It took ( 0.37572288513183594 ) secs\n",
      "--------------------------------------\n",
      "Working on aMidsummerNightsDream-german.txt\n",
      "length of token 8477\n",
      "Most frequent word is: schlegel with counter 1\n",
      "Most frequent word: demetrius with frequency: 92 counts\n",
      "It took ( 0.389101505279541 ) secs\n",
      "--------------------------------------\n",
      "Working on hamlet-english.txt\n",
      "length of token 26042\n",
      "Most frequent word is: None with counter 0\n",
      "Most frequent word: que with frequency: 1306 counts\n",
      "It took ( 0.6448431015014648 ) secs\n",
      "--------------------------------------\n",
      "Working on hamlet-french.txt\n",
      "length of token 29553\n",
      "Most frequent word is: ici with counter 1\n",
      "Most frequent word: hamlet. with frequency: 353 counts\n",
      "It took ( 0.9732935428619385 ) secs\n",
      "--------------------------------------\n",
      "Working on hamlet-german.txt\n",
      "length of token 16472\n",
      "Most frequent word is: None with counter 0\n",
      "Most frequent word: hamlet with frequency: 419 counts\n",
      "It took ( 0.7218384742736816 ) secs\n",
      "--------------------------------------\n",
      "Done!!!\n"
     ]
    }
   ],
   "source": [
    "# get all literary works under study\n",
    "literary_works_dir = 'shakespeare'\n",
    "literary_works_path = os.path.join(os.getcwd(), literary_works_dir)\n",
    "literary_works = os.listdir(literary_works_path) \n",
    "\n",
    "token_lengths = []\n",
    "exact_most_frequents = []\n",
    "exact_counter = []\n",
    "\n",
    "for literary_work in literary_works:\n",
    "\tprint('Working on', literary_work)\n",
    "\tstart_ = time.time()\n",
    "\n",
    "\tfile_path = os.path.join(literary_works_dir, literary_work) #  construct the file path\n",
    "\tfile_tokenized = filePreprocessor(file_path)\n",
    "\tprint('length of token', len(file_tokenized))\n",
    "\tFC = StreamAlg(file_tokenized)\n",
    "\n",
    "\tstop_ = time.time()\n",
    "\n",
    "\n",
    "\tprint('-'*38)\n",
    "\n",
    "print('Done!!!')\n"
   ]
  },
  {
   "cell_type": "code",
   "execution_count": 46,
   "metadata": {},
   "outputs": [
    {
     "data": {
      "text/plain": [
       "('hamlet', 419)"
      ]
     },
     "execution_count": 46,
     "metadata": {},
     "output_type": "execute_result"
    }
   ],
   "source": []
  },
  {
   "cell_type": "code",
   "execution_count": null,
   "metadata": {},
   "outputs": [],
   "source": []
  }
 ],
 "metadata": {
  "interpreter": {
   "hash": "c11c31f54c6a1524bc46d512b04aae0b7af80f49ff982b19a79f63cf28c4a08a"
  },
  "kernelspec": {
   "display_name": "Python 3.8.8 64-bit ('cryptography': venv)",
   "language": "python",
   "name": "python3"
  },
  "language_info": {
   "codemirror_mode": {
    "name": "ipython",
    "version": 3
   },
   "file_extension": ".py",
   "mimetype": "text/x-python",
   "name": "python",
   "nbconvert_exporter": "python",
   "pygments_lexer": "ipython3",
   "version": "3.8.12"
  },
  "orig_nbformat": 4
 },
 "nbformat": 4,
 "nbformat_minor": 2
}
