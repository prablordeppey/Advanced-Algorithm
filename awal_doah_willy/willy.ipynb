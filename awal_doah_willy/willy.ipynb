{
    "cells": [
        {
            "cell_type": "code",
            "execution_count": 22,
            "metadata": {},
            "outputs": [],
            "source": [
                "import networkx as nx\n",
                "import random\n",
                "import numpy as np\n",
                "from itertools import  combinations"
            ]
        },
        {
            "cell_type": "code",
            "execution_count": 228,
            "metadata": {},
            "outputs": [
                {
                    "name": "stdout",
                    "output_type": "stream",
                    "text": [
                        "{0: 7, 1: 4, 2: 3, 3: 7, 4: 5, 5: 6}\n"
                    ]
                },
                {
                    "data": {
                        "image/png": "[encoded data removed]",
                        "image/svg+xml": "<?xml version=\"1.0\" encoding=\"utf-8\" standalone=\"no\"?>\r\n<!DOCTYPE svg PUBLIC \"-//W3C//DTD SVG 1.1//EN\"\r\n  \"http://www.w3.org/Graphics/SVG/1.1/DTD/svg11.dtd\">\r\n<svg height=\"302.4pt\" version=\"1.1\" viewBox=\"0 0 446.4 302.4\" width=\"446.4pt\" xmlns=\"http://www.w3.org/2000/svg\" xmlns:xlink=\"http://www.w3.org/1999/xlink\">\r\n <metadata>\r\n  <rdf:RDF xmlns:cc=\"http://creativecommons.org/ns#\" xmlns:dc=\"http://purl.org/dc/elements/1.1/\" xmlns:rdf=\"http://www.w3.org/1999/02/22-rdf-syntax-ns#\">\r\n   <cc:Work>\r\n    <dc:type rdf:resource=\"http://purl.org/dc/dcmitype/StillImage\"/>\r\n    <dc:date>2021-12-04T22:14:03.597467</dc:date>\r\n    <dc:format>image/svg+xml</dc:format>\r\n    <dc:creator>\r\n     <cc:Agent>\r\n      <dc:title>Matplotlib v3.4.3, https://matplotlib.org/</dc:title>\r\n     </cc:Agent>\r\n    </dc:creator>\r\n   </cc:Work>\r\n  </rdf:RDF>\r\n </metadata>\r\n <defs>\r\n  <style type=\"text/css\">*{stroke-linecap:butt;stroke-linejoin:round;}</style>\r\n </defs>\r\n <g id=\"figure_1\">\r\n  <g id=\"patch_1\">\r\n   <path d=\"M 0 302.4 \r\nL 446.4 302.4 \r\nL 446.4 0 \r\nL 0 0 \r\nz\r\n\" style=\"fill:#ffffff;\"/>\r\n  </g>\r\n  <g id=\"axes_1\">\r\n   <g id=\"patch_2\">\r\n    <path clip-path=\"url(#p15db1ddd9e)\" d=\"M 266.742562 110.723266 \r\nQ 330.485411 73.634805 393.261901 37.108615 \r\n\" style=\"fill:none;stroke:#000000;stroke-linecap:round;\"/>\r\n    <path clip-path=\"url(#p15db1ddd9e)\" d=\"M 388.798726 37.391582 \r\nL 393.261901 37.108615 \r\nL 390.810369 40.848935 \r\nL 388.798726 37.391582 \r\nz\r\n\" style=\"stroke:#000000;stroke-linecap:round;\"/>\r\n   </g>\r\n   <g id=\"patch_3\">\r\n    <path clip-path=\"url(#p15db1ddd9e)\" d=\"M 251.219792 118.297909 \r\nQ 247.945949 119.609326 245.709969 120.505001 \r\n\" style=\"fill:none;stroke:#000000;stroke-linecap:round;\"/>\r\n    <path clip-path=\"url(#p15db1ddd9e)\" d=\"M 250.16684 120.874187 \r\nL 245.709969 120.505001 \r\nL 248.67944 117.161016 \r\nL 250.16684 120.874187 \r\nz\r\n\" style=\"stroke:#000000;stroke-linecap:round;\"/>\r\n   </g>\r\n   <g id=\"patch_4\">\r\n    <path clip-path=\"url(#p15db1ddd9e)\" d=\"M 260.781228 123.604075 \r\nQ 273.110428 192.64468 285.243081 260.584663 \r\n\" style=\"fill:none;stroke:#000000;stroke-linecap:round;\"/>\r\n    <path clip-path=\"url(#p15db1ddd9e)\" d=\"M 286.508742 256.295362 \r\nL 285.243081 260.584663 \r\nL 282.571037 256.998554 \r\nL 286.508742 256.295362 \r\nz\r\n\" style=\"stroke:#000000;stroke-linecap:round;\"/>\r\n   </g>\r\n   <g id=\"patch_5\">\r\n    <path clip-path=\"url(#p15db1ddd9e)\" d=\"M 250.618275 114.463638 \r\nQ 151.971966 107.45214 54.440876 100.519909 \r\n\" style=\"fill:none;stroke:#000000;stroke-linecap:round;\"/>\r\n    <path clip-path=\"url(#p15db1ddd9e)\" d=\"M 58.289014 102.79847 \r\nL 54.440876 100.519909 \r\nL 58.572607 98.808535 \r\nL 58.289014 102.79847 \r\nz\r\n\" style=\"stroke:#000000;stroke-linecap:round;\"/>\r\n   </g>\r\n   <g id=\"patch_6\">\r\n    <path clip-path=\"url(#p15db1ddd9e)\" d=\"M 267.471494 112.324807 \r\nQ 325.122206 93.000278 381.712852 74.031083 \r\n\" style=\"fill:none;stroke:#000000;stroke-linecap:round;\"/>\r\n    <path clip-path=\"url(#p15db1ddd9e)\" d=\"M 377.284608 73.406063 \r\nL 381.712852 74.031083 \r\nL 378.555889 77.198667 \r\nL 377.284608 73.406063 \r\nz\r\n\" style=\"stroke:#000000;stroke-linecap:round;\"/>\r\n   </g>\r\n   <g id=\"patch_7\">\r\n    <path clip-path=\"url(#p15db1ddd9e)\" d=\"M 399.401434 40.536458 \r\nQ 396.350054 51.55477 393.597069 61.495604 \r\n\" style=\"fill:none;stroke:#000000;stroke-linecap:round;\"/>\r\n    <path clip-path=\"url(#p15db1ddd9e)\" d=\"M 396.592089 58.174481 \r\nL 393.597069 61.495604 \r\nL 392.737182 57.106914 \r\nL 396.592089 58.174481 \r\nz\r\n\" style=\"stroke:#000000;stroke-linecap:round;\"/>\r\n   </g>\r\n   <g id=\"patch_8\">\r\n    <path clip-path=\"url(#p15db1ddd9e)\" d=\"M 228.045677 123.051631 \r\nQ 140.662696 111.983311 54.388887 101.055483 \r\n\" style=\"fill:none;stroke:#000000;stroke-linecap:round;\"/>\r\n    <path clip-path=\"url(#p15db1ddd9e)\" d=\"M 58.105859 103.542271 \r\nL 54.388887 101.055483 \r\nL 58.608501 99.573978 \r\nL 58.105859 103.542271 \r\nz\r\n\" style=\"stroke:#000000;stroke-linecap:round;\"/>\r\n   </g>\r\n   <g id=\"patch_9\">\r\n    <path clip-path=\"url(#p15db1ddd9e)\" d=\"M 244.200295 119.926484 \r\nQ 319.174527 78.165595 393.172022 36.948752 \r\n\" style=\"fill:none;stroke:#000000;stroke-linecap:round;\"/>\r\n    <path clip-path=\"url(#p15db1ddd9e)\" d=\"M 388.704325 37.147948 \r\nL 393.172022 36.948752 \r\nL 390.650761 40.642428 \r\nL 388.704325 37.147948 \r\nz\r\n\" style=\"stroke:#000000;stroke-linecap:round;\"/>\r\n   </g>\r\n   <g id=\"patch_10\">\r\n    <path clip-path=\"url(#p15db1ddd9e)\" d=\"M 239.457435 132.328456 \r\nQ 261.799698 197.176316 283.77777 260.967121 \r\n\" style=\"fill:none;stroke:#000000;stroke-linecap:round;\"/>\r\n    <path clip-path=\"url(#p15db1ddd9e)\" d=\"M 284.365718 256.533802 \r\nL 283.77777 260.967121 \r\nL 280.583884 257.836771 \r\nL 284.365718 256.533802 \r\nz\r\n\" style=\"stroke:#000000;stroke-linecap:round;\"/>\r\n   </g>\r\n   <g id=\"PathCollection_1\">\r\n    <defs>\r\n     <path d=\"M 0 8.660254 \r\nC 2.296726 8.660254 4.499694 7.747755 6.123724 6.123724 \r\nC 7.747755 4.499694 8.660254 2.296726 8.660254 0 \r\nC 8.660254 -2.296726 7.747755 -4.499694 6.123724 -6.123724 \r\nC 4.499694 -7.747755 2.296726 -8.660254 0 -8.660254 \r\nC -2.296726 -8.660254 -4.499694 -7.747755 -6.123724 -6.123724 \r\nC -7.747755 -4.499694 -8.660254 -2.296726 -8.660254 0 \r\nC -8.660254 2.296726 -7.747755 4.499694 -6.123724 6.123724 \r\nC -4.499694 7.747755 -2.296726 8.660254 0 8.660254 \r\nz\r\n\" id=\"m2a40577acc\" style=\"stroke:#1f78b4;\"/>\r\n    </defs>\r\n    <g clip-path=\"url(#p15db1ddd9e)\">\r\n     <use style=\"fill:#1f78b4;stroke:#1f78b4;\" x=\"259.258608\" xlink:href=\"#m2a40577acc\" y=\"115.077768\"/>\r\n     <use style=\"fill:#1f78b4;stroke:#1f78b4;\" x=\"401.712397\" xlink:href=\"#m2a40577acc\" y=\"32.191736\"/>\r\n     <use style=\"fill:#1f78b4;stroke:#1f78b4;\" x=\"44.687603\" xlink:href=\"#m2a40577acc\" y=\"99.826675\"/>\r\n     <use style=\"fill:#1f78b4;stroke:#1f78b4;\" x=\"286.961654\" xlink:href=\"#m2a40577acc\" y=\"270.208264\"/>\r\n     <use style=\"fill:#1f78b4;stroke:#1f78b4;\" x=\"236.636148\" xlink:href=\"#m2a40577acc\" y=\"124.139739\"/>\r\n     <use style=\"fill:#1f78b4;stroke:#1f78b4;\" x=\"390.986386\" xlink:href=\"#m2a40577acc\" y=\"70.922593\"/>\r\n    </g>\r\n   </g>\r\n   <g id=\"text_1\">\r\n    <g clip-path=\"url(#p15db1ddd9e)\">\r\n     <!-- 0 -->\r\n     <g transform=\"translate(255.441108 118.389018)scale(0.12 -0.12)\">\r\n      <defs>\r\n       <path d=\"M 2034 4250 \r\nQ 1547 4250 1301 3770 \r\nQ 1056 3291 1056 2328 \r\nQ 1056 1369 1301 889 \r\nQ 1547 409 2034 409 \r\nQ 2525 409 2770 889 \r\nQ 3016 1369 3016 2328 \r\nQ 3016 3291 2770 3770 \r\nQ 2525 4250 2034 4250 \r\nz\r\nM 2034 4750 \r\nQ 2819 4750 3233 4129 \r\nQ 3647 3509 3647 2328 \r\nQ 3647 1150 3233 529 \r\nQ 2819 -91 2034 -91 \r\nQ 1250 -91 836 529 \r\nQ 422 1150 422 2328 \r\nQ 422 3509 836 4129 \r\nQ 1250 4750 2034 4750 \r\nz\r\n\" id=\"DejaVuSans-30\" transform=\"scale(0.015625)\"/>\r\n      </defs>\r\n      <use xlink:href=\"#DejaVuSans-30\"/>\r\n     </g>\r\n    </g>\r\n   </g>\r\n   <g id=\"text_2\">\r\n    <g clip-path=\"url(#p15db1ddd9e)\">\r\n     <!-- 1 -->\r\n     <g transform=\"translate(397.894897 35.502986)scale(0.12 -0.12)\">\r\n      <defs>\r\n       <path d=\"M 794 531 \r\nL 1825 531 \r\nL 1825 4091 \r\nL 703 3866 \r\nL 703 4441 \r\nL 1819 4666 \r\nL 2450 4666 \r\nL 2450 531 \r\nL 3481 531 \r\nL 3481 0 \r\nL 794 0 \r\nL 794 531 \r\nz\r\n\" id=\"DejaVuSans-31\" transform=\"scale(0.015625)\"/>\r\n      </defs>\r\n      <use xlink:href=\"#DejaVuSans-31\"/>\r\n     </g>\r\n    </g>\r\n   </g>\r\n   <g id=\"text_3\">\r\n    <g clip-path=\"url(#p15db1ddd9e)\">\r\n     <!-- 2 -->\r\n     <g transform=\"translate(40.870103 103.137925)scale(0.12 -0.12)\">\r\n      <defs>\r\n       <path d=\"M 1228 531 \r\nL 3431 531 \r\nL 3431 0 \r\nL 469 0 \r\nL 469 531 \r\nQ 828 903 1448 1529 \r\nQ 2069 2156 2228 2338 \r\nQ 2531 2678 2651 2914 \r\nQ 2772 3150 2772 3378 \r\nQ 2772 3750 2511 3984 \r\nQ 2250 4219 1831 4219 \r\nQ 1534 4219 1204 4116 \r\nQ 875 4013 500 3803 \r\nL 500 4441 \r\nQ 881 4594 1212 4672 \r\nQ 1544 4750 1819 4750 \r\nQ 2544 4750 2975 4387 \r\nQ 3406 4025 3406 3419 \r\nQ 3406 3131 3298 2873 \r\nQ 3191 2616 2906 2266 \r\nQ 2828 2175 2409 1742 \r\nQ 1991 1309 1228 531 \r\nz\r\n\" id=\"DejaVuSans-32\" transform=\"scale(0.015625)\"/>\r\n      </defs>\r\n      <use xlink:href=\"#DejaVuSans-32\"/>\r\n     </g>\r\n    </g>\r\n   </g>\r\n   <g id=\"text_4\">\r\n    <g clip-path=\"url(#p15db1ddd9e)\">\r\n     <!-- 3 -->\r\n     <g transform=\"translate(283.144154 273.519514)scale(0.12 -0.12)\">\r\n      <defs>\r\n       <path d=\"M 2597 2516 \r\nQ 3050 2419 3304 2112 \r\nQ 3559 1806 3559 1356 \r\nQ 3559 666 3084 287 \r\nQ 2609 -91 1734 -91 \r\nQ 1441 -91 1130 -33 \r\nQ 819 25 488 141 \r\nL 488 750 \r\nQ 750 597 1062 519 \r\nQ 1375 441 1716 441 \r\nQ 2309 441 2620 675 \r\nQ 2931 909 2931 1356 \r\nQ 2931 1769 2642 2001 \r\nQ 2353 2234 1838 2234 \r\nL 1294 2234 \r\nL 1294 2753 \r\nL 1863 2753 \r\nQ 2328 2753 2575 2939 \r\nQ 2822 3125 2822 3475 \r\nQ 2822 3834 2567 4026 \r\nQ 2313 4219 1838 4219 \r\nQ 1578 4219 1281 4162 \r\nQ 984 4106 628 3988 \r\nL 628 4550 \r\nQ 988 4650 1302 4700 \r\nQ 1616 4750 1894 4750 \r\nQ 2613 4750 3031 4423 \r\nQ 3450 4097 3450 3541 \r\nQ 3450 3153 3228 2886 \r\nQ 3006 2619 2597 2516 \r\nz\r\n\" id=\"DejaVuSans-33\" transform=\"scale(0.015625)\"/>\r\n      </defs>\r\n      <use xlink:href=\"#DejaVuSans-33\"/>\r\n     </g>\r\n    </g>\r\n   </g>\r\n   <g id=\"text_5\">\r\n    <g clip-path=\"url(#p15db1ddd9e)\">\r\n     <!-- 4 -->\r\n     <g transform=\"translate(232.818648 127.450989)scale(0.12 -0.12)\">\r\n      <defs>\r\n       <path d=\"M 2419 4116 \r\nL 825 1625 \r\nL 2419 1625 \r\nL 2419 4116 \r\nz\r\nM 2253 4666 \r\nL 3047 4666 \r\nL 3047 1625 \r\nL 3713 1625 \r\nL 3713 1100 \r\nL 3047 1100 \r\nL 3047 0 \r\nL 2419 0 \r\nL 2419 1100 \r\nL 313 1100 \r\nL 313 1709 \r\nL 2253 4666 \r\nz\r\n\" id=\"DejaVuSans-34\" transform=\"scale(0.015625)\"/>\r\n      </defs>\r\n      <use xlink:href=\"#DejaVuSans-34\"/>\r\n     </g>\r\n    </g>\r\n   </g>\r\n   <g id=\"text_6\">\r\n    <g clip-path=\"url(#p15db1ddd9e)\">\r\n     <!-- 5 -->\r\n     <g transform=\"translate(387.168886 74.233843)scale(0.12 -0.12)\">\r\n      <defs>\r\n       <path d=\"M 691 4666 \r\nL 3169 4666 \r\nL 3169 4134 \r\nL 1269 4134 \r\nL 1269 2991 \r\nQ 1406 3038 1543 3061 \r\nQ 1681 3084 1819 3084 \r\nQ 2600 3084 3056 2656 \r\nQ 3513 2228 3513 1497 \r\nQ 3513 744 3044 326 \r\nQ 2575 -91 1722 -91 \r\nQ 1428 -91 1123 -41 \r\nQ 819 9 494 109 \r\nL 494 744 \r\nQ 775 591 1075 516 \r\nQ 1375 441 1709 441 \r\nQ 2250 441 2565 725 \r\nQ 2881 1009 2881 1497 \r\nQ 2881 1984 2565 2268 \r\nQ 2250 2553 1709 2553 \r\nQ 1456 2553 1204 2497 \r\nQ 953 2441 691 2322 \r\nL 691 4666 \r\nz\r\n\" id=\"DejaVuSans-35\" transform=\"scale(0.015625)\"/>\r\n      </defs>\r\n      <use xlink:href=\"#DejaVuSans-35\"/>\r\n     </g>\r\n    </g>\r\n   </g>\r\n  </g>\r\n </g>\r\n <defs>\r\n  <clipPath id=\"p15db1ddd9e\">\r\n   <rect height=\"288\" width=\"432\" x=\"7.2\" y=\"7.2\"/>\r\n  </clipPath>\r\n </defs>\r\n</svg>\r\n",
                        "text/plain": [
                            "<Figure size 432x288 with 1 Axes>"
                        ]
                    },
                    "metadata": {},
                    "output_type": "display_data"
                }
            ],
            "source": [
                "# node = 15\n",
                "student_number = 2\n",
                "random.seed = student_number\n",
                "\n",
                "def GraphGenerator(nodes=None):\n",
                "    \"\"\"\n",
                "    generates a graph\n",
                "    \"\"\"\n",
                "    graph=nx.generators.random_graphs.erdos_renyi_graph(n=nodes, p=0.4, seed=student_number, directed=True)\n",
                "    for _ in range(nodes):\n",
                "        graph.nodes[_]['weight'] = random.randint(1,10)\n",
                "    print(nx.get_node_attributes(graph,'weight'))\n",
                "    nx.draw(graph, with_labels=True)\n",
                "    return graph\n",
                "# graph = GraphGenerator(nodes=5) \n",
                "\n",
                "\n",
                "\n",
                "closured_graph = nx.DiGraph()\n",
                "for _ in range(6):\n",
                "    closured_graph.add_nodes_from([_], weight=random.randint(_,10))\n",
                "closured_graph.add_edges_from([(0,1),(0,4),(0,3),(0,2),(4,2),(4,1),(1,5),(4,3),(0,5)])\n",
                "print(nx.get_node_attributes(closured_graph,'weight'))\n",
                "nx.draw(closured_graph, with_labels=True)    "
            ]
        },
        {
            "cell_type": "code",
            "execution_count": 190,
            "metadata": {},
            "outputs": [],
            "source": [
                "def GetPotentialClosures(vertices):\n",
                "    \"\"\"\n",
                "    Return the possible covers for the graph.\n",
                "    \"\"\"\n",
                "    vertices = set(vertices)\n",
                "    powerset = ([x for i in range(len(vertices)+1) for x in combinations(vertices,i)])\n",
                "    potential_closures = powerset[1:]\n",
                "\n",
                "    return potential_closures"
            ]
        },
        {
            "cell_type": "code",
            "execution_count": 219,
            "metadata": {},
            "outputs": [],
            "source": [
                "def ExhaustiveSearch(graph=None):\n",
                "\n",
                "    potential_closures = GetPotentialClosures(graph.nodes())\n",
                "    adjacency_matrix = nx.adjacency_matrix(graph).todense()\n",
                "\n",
                "    # define initial closure weight and set\n",
                "    max_closure_set = None\n",
                "    max_closure_weight = -np.inf\n",
                "    \n",
                "    for pclosure in potential_closures:\n",
                "        \n",
                "        # check all elements in pclosure is actually a closure\n",
                "        isClosure = True\n",
                "        for source in pclosure:\n",
                "\n",
                "            sum_check = np.sum(adjacency_matrix[source,:])\n",
                "            if sum_check != 0:\n",
                "                isClosure = False\n",
                "                break\n",
                "        \n",
                "        if isClosure is True:\n",
                "\n",
                "            g_weights = nx.get_node_attributes(graph,'weight')\n",
                "            closure_weight = 0\n",
                "            for v in pclosure:\n",
                "                closure_weight += g_weights[v]\n",
                "            \n",
                "            # update closure weight if new pclosure weight is bigger than what is there\n",
                "            if closure_weight > max_closure_weight:\n",
                "                max_closure_set = pclosure\n",
                "                max_closure_weight = closure_weight\n",
                "    \n",
                "    return max_closure_set, max_closure_weight"
            ]
        },
        {
            "cell_type": "code",
            "execution_count": 220,
            "metadata": {},
            "outputs": [
                {
                    "data": {
                        "text/plain": [
                            "((2, 3, 5), 21)"
                        ]
                    },
                    "execution_count": 220,
                    "metadata": {},
                    "output_type": "execute_result"
                }
            ],
            "source": [
                "graph = closured_graph\n",
                "ExhaustiveSearch(graph=graph)"
            ]
        },
        {
            "cell_type": "code",
            "execution_count": null,
            "metadata": {},
            "outputs": [],
            "source": []
        }
    ],
    "metadata": {
        "interpreter": {
            "hash": "c11c31f54c6a1524bc46d512b04aae0b7af80f49ff982b19a79f63cf28c4a08a"
        },
        "kernelspec": {
            "display_name": "Python 3.8.8 64-bit ('cryptography': venv)",
            "name": "python3"
        },
        "language_info": {
            "codemirror_mode": {
                "name": "ipython",
                "version": 3
            },
            "file_extension": ".py",
            "mimetype": "text/x-python",
            "name": "python",
            "nbconvert_exporter": "python",
            "pygments_lexer": "ipython3",
            "version": "3.8.8"
        },
        "orig_nbformat": 4
    },
    "nbformat": 4,
    "nbformat_minor": 2
}
