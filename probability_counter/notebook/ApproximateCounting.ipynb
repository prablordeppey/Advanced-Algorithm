{
 "cells": [
  {
   "cell_type": "code",
   "execution_count": 85,
   "metadata": {},
   "outputs": [],
   "source": [
    "import random\n",
    "import numpy as np\n",
    "import os\n",
    "import collections\n",
    "import pandas as pd\n",
    "import time\n",
    "import enum\n",
    "from matplotlib import pyplot as plt"
   ]
  },
  {
   "cell_type": "code",
   "execution_count": 43,
   "metadata": {},
   "outputs": [],
   "source": [
    "class ApproximateCounter():\n",
    "    \"\"\"\n",
    "    Counts the frequency of every letter in a given text literary document.\n",
    "    Metrics such as min, max and average number of occurences are also reported.\n",
    "    Average pecentage of letter occurence in the text is also reported.\n",
    "    \"\"\"\n",
    "\n",
    "    def __init__(self):\n",
    "        self.student_counter = 106382\n",
    "        random.seed = self.student_counter\n",
    "        self.textFilesDirectory = os.path.join(os.getcwd(), 'TextFiles')\n",
    "        \n",
    "        self.counter = 0\n",
    "\n",
    "        self.text_data = None\n",
    "        self.count_method = None\n",
    "\n",
    "        self.save_estimate = None\n",
    "        self.save_counter = None\n",
    "\n",
    "\n",
    "    def InitializeRegisters(self):\n",
    "        # containers for holding actual counter and actual estimate of items\n",
    "        # creating necessary columns\n",
    "\n",
    "        columns = ['Letter'] + [f'Exp {exp_number}' for exp_number in range(1, self.n_experiments + 1)]\n",
    "        self.counter_register = pd.DataFrame(columns=columns)\n",
    "        # for exp_number in range(1, self.n_experiments + 1):\n",
    "        #     self.counter_register = pd.concat([f'Exp {exp_number}'] = np.NaN\n",
    "\n",
    "\n",
    "    def LoadTextFile(self, filename='sample'):\n",
    "        self.filename = filename\n",
    "        filename = filename + '.txt'\n",
    "        text_file_path = os.path.join(self.textFilesDirectory, 'shakespeare', filename)\n",
    "        with open(text_file_path, 'r', encoding=\"utf8\") as file:\n",
    "            text_data = file.readlines()\n",
    "\n",
    "        # combine all lines from text into a big string\n",
    "        self.text_data = ''.join(text_data)\n",
    "        \n",
    "        # remove all non-alphanumerics characters, and converts to upper(most imp) \n",
    "        self.text_data = ''.join(filter(str.isalpha, self.text_data)).upper()\n",
    "    \n",
    "    \n",
    "    def Save2CSV(self, filename=None, dir_name='output'):\n",
    "        \"\"\"\n",
    "        Saves register df to csv\n",
    "        Args:\n",
    "            filename [str] - filename to save csv without extension. default original textfile name\n",
    "            dir_name [str] - output folder to save csv in. default 'output'\n",
    "            save_estimate [bool] - whether to save letter:estimate or not. Default True, save file.\n",
    "            save_counter [bool] - whether to save letter:count or not. Default True, save file.\n",
    "        Writes:\n",
    "            filename_estimate_decreaseprob [csv] - letter estimates for each trial of the experiment.\n",
    "            filename_counter_exact [csv] - letter counter/approx frequency for each trial of the experiment.\n",
    "        \"\"\"\n",
    "        \n",
    "        if filename is not None:\n",
    "            if not isinstance(filename, str):\n",
    "                filename = str(filename)\n",
    "        else:\n",
    "            filename = self.filename\n",
    "\n",
    "        # create directory to save outputs\n",
    "        output_directory = os.path.join(self.textFilesDirectory, dir_name)\n",
    "        if not os.path.exists(output_directory):\n",
    "            os.mkdir(output_directory)\n",
    "        \n",
    "        if self.save_estimate is True:\n",
    "            # filename_estimate_decreaseprob.csv\n",
    "            estimate_filename = filename + '_' + self.count_method + '_estimate' + '.csv'\n",
    "            estimate_file_path = os.path.join(output_directory, estimate_filename)\n",
    "            self.estimate_register.to_csv(estimate_file_path, index = False, header=True)\n",
    "\n",
    "        if self.save_counter is True:\n",
    "            # filename_counter_exact.csv\n",
    "            counter_filename = filename + '_' + self.count_method + '_counter' + '.csv'\n",
    "            counter_file_path = os.path.join(output_directory, counter_filename)\n",
    "            self.counter_register.to_csv(counter_file_path, index = False, header=True)\n",
    "\n",
    "\n",
    "    def RegisterFormatter(self, register):\n",
    "        \"\"\"\n",
    "        extract the compiled register.\n",
    "        counts formatted as integer.\n",
    "        NaN values replaced by 0's.\n",
    "        Obtain metrics (min, max, std, var, average, avg %, mae)\n",
    "        \"\"\"\n",
    "        register.fillna(0, inplace=True)\n",
    "        # register.replace([np.inf, -np.inf],0, inplace=True)\n",
    "\n",
    "        # set column types to int\n",
    "        for exp in register.columns[1:]:\n",
    "            register[exp] = register[exp].astype(int)\n",
    "        \n",
    "        # get metrics\n",
    "        Min = register.iloc[:,1:].min(axis=1, skipna=True)\n",
    "        Max = register.iloc[:,1:].max(axis=1, skipna=True)\n",
    "        # Average = register.iloc[:,1:].mean(axis=1, skipna=True).apply(np.ceil).astype(int)\n",
    "        Average = register.iloc[:,1:].mean(axis=1, skipna=True).apply(np.floor).astype(int)\n",
    "        Std = register.iloc[:,1:].std(axis=1, skipna=True).round(4)\n",
    "        Var = register.iloc[:,1:].var(axis=1, skipna=True).round(4)        \n",
    "        \n",
    "        # computing average percentage\n",
    "        avg_sum = np.sum(Average)\n",
    "        avg_percent = (Average/avg_sum)*100\n",
    "        Average_Percent = avg_percent.round(4) # round to 2dps\n",
    "\n",
    "        # computing the mean absolute error sum(|e_i|)/n\n",
    "        MAE = register.iloc[:,1:].apply(lambda k: abs(k-Average[k.index])).mean(axis=1)\n",
    "\n",
    "        # combining metrics\n",
    "        metrics = pd.concat((Min, Max, Average, Average_Percent, MAE, Std, Var), axis=1)\n",
    "        metrics_df = pd.DataFrame(metrics)\n",
    "        metrics_df.columns = ['Minimum', 'Maximum', 'Average', 'Average %', 'MAE','STD', 'Variance']     \n",
    "        \n",
    "        # combine metrics with register and sort\n",
    "        register = pd.concat((register, metrics_df), axis=1)\n",
    "        register.sort_values(by='Average', ascending=False, inplace=True)\n",
    "\n",
    "        return register\n",
    "\n",
    "\n",
    "    def FormatRegisters(self):\n",
    "        # computing estimates\n",
    "        if self.save_estimate is True:\n",
    "\n",
    "            self.estimate_register = self.counter_register.copy()\n",
    "\n",
    "            if self.count_method == 'exact':\n",
    "                self.estimate_register = self.estimate_register\n",
    "            elif self.count_method == 'fixed':\n",
    "                self.estimate_register = self.estimate_register.apply(lambda k: 2*k if k.name != 'Letter' else k)\n",
    "            else: # decreasing probaibility\n",
    "                self.estimate_register =  self.estimate_register.apply(lambda k: 2**k-1 if k.name != 'Letter' else k)\n",
    "            self.estimate_register = self.RegisterFormatter(self.estimate_register)\n",
    "\n",
    "        if self.save_counter is True:\n",
    "            self.counter_register = self.RegisterFormatter(self.counter_register)   \n",
    "\n",
    "\n",
    "    def Add2Register(self, exp_number, counter=None):\n",
    "        \"\"\"\n",
    "        Implementation:\n",
    "            Adds letter:frequency to register. If letter already exists, just add frequency to current exp_number. \n",
    "        Args:\n",
    "            exp_number [int] - current experiment number\n",
    "            counter [] - counter for each letter counted\n",
    "        Updates:\n",
    "            counter_register [] - add letter frequency/count to register database\n",
    "\n",
    "        \"\"\"\n",
    "        # updating counter_register\n",
    "        for letter in counter:\n",
    "            if letter not in self.counter_register.values:\n",
    "                self.counter_register = self.counter_register.append({'Letter':letter, f'Exp {exp_number}':int(counter[letter])}, ignore_index = True)\n",
    "            else:\n",
    "                self.counter_register.loc[self.counter_register['Letter']==letter, f'Exp {exp_number}'] = counter[letter]    \n",
    "\n",
    "\n",
    "    def ExactCounter(self, n_experiments=1, save_estimate=True, save_counter=True):\n",
    "        \"\"\"\n",
    "        Get all letter, frequency for each experiment.\n",
    "        Add letter, frequency to register\n",
    "        \"\"\"\n",
    "        # necessary global vars\n",
    "        self.n_experiments = n_experiments\n",
    "        self.save_estimate = save_estimate\n",
    "        self.save_counter = save_counter\n",
    "        self.count_method = 'exact'\n",
    "\n",
    "        # create register and cols\n",
    "        self.InitializeRegisters()\n",
    "    \n",
    "        for exp_number in range(1, self.n_experiments + 1):\n",
    "\n",
    "            counters = dict()\n",
    "            for letter_index in range(len(self.text_data)):\n",
    "                letter = self.text_data[letter_index] \n",
    "                if letter in counters:\n",
    "                    counters[letter] += 1\n",
    "                else:\n",
    "                    counters.update({letter : 1})\n",
    "            \n",
    "            self.Add2Register(exp_number, counter=counters)\n",
    "\n",
    "        self.FormatRegisters()\n",
    "        self.Save2CSV()\n",
    "\n",
    "\n",
    "    def FixedProbCounter(self, n_experiments=1, save_estimate=True, save_counter=True):\n",
    "        \"\"\"\n",
    "        Finds the exact count/frequency of distint letters in a literary work, with a probability of 1/2 of counting a new occurence.\n",
    "        \"\"\"\n",
    "        # necessary global vars\n",
    "        self.n_experiments = n_experiments\n",
    "        self.save_estimate = save_estimate\n",
    "        self.save_counter = save_counter\n",
    "        self.count_method = 'fixed'\n",
    "\n",
    "        # create register and experiment headings\n",
    "        self.InitializeRegisters()\n",
    "    \n",
    "        for exp_number in range(1, self.n_experiments + 1):\n",
    "\n",
    "            counters = dict()\n",
    "            for letter in self.text_data:\n",
    "                \n",
    "                # using this because first occurences will always result in an error\n",
    "                if letter in counters:\n",
    "                    k = counters[letter] # count of letter already made\n",
    "                    prob_not_increase = 1 - 1/2 # prob of increment is 1/2\n",
    "                else:\n",
    "                    prob_not_increase = 0\n",
    "\n",
    "                exp_prob = random.random()\n",
    "                if exp_prob > prob_not_increase:\n",
    "                    if letter in counters:\n",
    "                        counters[letter] += 1\n",
    "                    else:\n",
    "                        counters.update({letter : 1})\n",
    "            \n",
    "            self.Add2Register(exp_number, counter=counters)\n",
    "\n",
    "        self.FormatRegisters()\n",
    "        self.Save2CSV()\n",
    "\n",
    "\n",
    "    def DecreasingProbCounter(self, n_experiments:int=1, save_estimate:bool=True, save_counter=True):\n",
    "        \"\"\"\n",
    "        counts new letter occurence with decreasing probability each time. \n",
    "        For instance, the 10'th occurence will have probability 1/sqrt(2)**10 probability of getting counted.\n",
    "        This means the more frequent \n",
    "        \"\"\"\n",
    "        # necessary global vars\n",
    "        self.n_experiments = n_experiments\n",
    "        self.save_estimate = save_estimate\n",
    "        self.save_counter = save_counter\n",
    "        self.count_method = 'decrease'\n",
    "\n",
    "        # create register and cols\n",
    "        self.InitializeRegisters()\n",
    "    \n",
    "        for exp_number in range(1, self.n_experiments + 1):\n",
    "\n",
    "            counters = dict()\n",
    "            for letter in self.text_data:\n",
    "            \n",
    "                # using this because first occurences will always result in an error\n",
    "                if letter in counters:\n",
    "                    k = counters[letter] # count of letter already made\n",
    "                    prob_not_to_increase = 1 - (1/(np.sqrt(2)**(k))) # prob of increment is 1/sqrt(2)**k\n",
    "                else:\n",
    "                    prob_not_to_increase = 0\n",
    "\n",
    "                # update counter if exp_prob is larger\n",
    "                exp_prob = random.random()\n",
    "                if exp_prob > prob_not_to_increase:              \n",
    "                    if letter in counters:\n",
    "                        counters[letter] += 1\n",
    "                    else:\n",
    "                        counters.update({letter : 1})\n",
    "                        \n",
    "            self.Add2Register(exp_number, counter=counters)\n",
    "\n",
    "        self.FormatRegisters()\n",
    "        self.Save2CSV()\n",
    "            \n",
    "\n",
    "    "
   ]
  },
  {
   "cell_type": "code",
   "execution_count": 44,
   "metadata": {},
   "outputs": [
    {
     "name": "stdout",
     "output_type": "stream",
     "text": [
      "Working on sample\n",
      "started ExactCounter\n",
      "It took ( 0.0370941162109375 ) secs\n",
      "started FixedProbCounter\n",
      "It took ( 0.7218344211578369 ) secs\n",
      "started DecreasingProbCounter\n",
      "It took ( 0.7673296928405762 ) secs\n",
      "------------------------------\n",
      "Done!!!\n"
     ]
    }
   ],
   "source": [
    "literary_works = [\n",
    "    'sample',\n",
    "    # 'aMidsummerNightsDream-english',\n",
    "    # 'aMidsummerNightsDream-french',\n",
    "    # 'aMidsummerNightsDream-german',\n",
    "    # 'hamlet-english',\n",
    "    # 'hamlet-french',\n",
    "    # 'hamlet-german',\n",
    "    # 'juliusCaesar-english',\n",
    "    # 'juliusCaesar-french',\n",
    "    # 'juliusCaesar-german',\n",
    "    # 'kingRichardIII-english',\n",
    "    # 'kingRichardIII-french',\n",
    "    # 'kingRichardIII-german',\n",
    "    # 'macbeth-english',\n",
    "    # 'macbeth-french',\n",
    "    # 'macbeth-german',\n",
    "    # 'merchantOfVenice-english',\n",
    "    # 'merchantOfVenice-french',\n",
    "    # 'merchantOfVenice-german',\n",
    "    # 'othello-english',\n",
    "    # 'othello-french',\n",
    "    # 'othello-german',\n",
    "    # 'romeoAndJuliet-english',\n",
    "    # 'romeoAndJuliet-french',\n",
    "    # 'romeoAndJuliet-german',\n",
    "    # 'theTempest-english',\n",
    "    # 'theTempest-french',\n",
    "    # 'theTempest-german',\n",
    "]\n",
    "\n",
    "for literary_work in literary_works:\n",
    "    AC = ApproximateCounter()\n",
    "    AC.LoadTextFile(filename=literary_work)\n",
    "    print('Working on', literary_work)\n",
    "    \n",
    "    print('started ExactCounter')\n",
    "    start_exact = time.time()\n",
    "    AC.ExactCounter(n_experiments=1, save_estimate=True, save_counter=True)\n",
    "    print('It took (', time.time() - start_exact, ') secs')\n",
    "\n",
    "    print('started FixedProbCounter')\n",
    "    start_fixed = time.time()\n",
    "    AC.FixedProbCounter(n_experiments=100, save_estimate=True, save_counter=True)\n",
    "    print('It took (', time.time() - start_fixed, ') secs')\n",
    "\n",
    "    print('started DecreasingProbCounter')\n",
    "    start_decreased = time.time()\n",
    "    AC.DecreasingProbCounter(n_experiments=100, save_estimate=True, save_counter=True)\n",
    "    print('It took (', time.time() - start_decreased, ') secs')\n",
    "\n",
    "    print('-'*35)\n",
    "    \n",
    "print('Done!!!')\n",
    "\n"
   ]
  },
  {
   "cell_type": "code",
   "execution_count": null,
   "metadata": {},
   "outputs": [],
   "source": []
  },
  {
   "cell_type": "code",
   "execution_count": 228,
   "metadata": {},
   "outputs": [],
   "source": [
    "class ExpectedCounter:\n",
    "    \"\"\"\n",
    "    Implementation:\n",
    "        - These methods compute the Expected Counter values given the number of events, for the three counters.\n",
    "        - The expected counter values are recursively computed.\n",
    "    \"\"\"\n",
    "    total_no_events = 1\n",
    "    def __init__(self):\n",
    "        self.expected_counts = dict()\n",
    "\n",
    "    def PlotExpectedCount(self):\n",
    "        plt.plot(self.expected_counts.keys(), self.expected_counts.values())\n",
    "        plt.title('Number of Occurence vs Expected Count')\n",
    "        plt.xlabel('Number of Occurence (k)')\n",
    "        plt.ylabel('Expected Count (Sk)')\n",
    "        plt.show()\n",
    "\n",
    "\n",
    "    def ExactExpectedCount(self, num_events=1):\n",
    "        if num_events == 1:\n",
    "            return 1\n",
    "        return 1 + self.ExactExpectedCount(num_events-1)\n",
    "\n",
    "\n",
    "    def FixedProbExpectedCount(self, num_events=1):\n",
    "        if num_events == 1:\n",
    "            return 1\n",
    "        return 1/2 + self.FixedProbExpectedCount(num_events-1)\n",
    "\n",
    "\n",
    "    def DecreasingProbExpectedCount(self, num_events=1):\n",
    "        \"\"\"\n",
    "        recursively computes expected count with a decreasing probability\n",
    "        \"\"\"\n",
    "        if num_events == 1:\n",
    "            return 1\n",
    "        self.recursive_counts += 1\n",
    "        return 1/np.sqrt(2)**(num_events-1) + self.DecreasingProbExpectedCount(num_events-1)\n",
    "\n",
    "\n",
    "    def Exact(self, total_no_events):\n",
    "        \"\"\"\n",
    "        This produces counts that form a straight line. The function is identity.\n",
    "        \"\"\"\n",
    "        self.__init__()\n",
    "        self.total_no_events = total_no_events\n",
    "        for event_num in range(1, self.total_no_events):\n",
    "            self.expected_counts.update({event_num : self.ExactExpectedCount(num_events=event_num)})\n",
    "        self.PlotExpectedCount()\n",
    "\n",
    "\n",
    "    def FixedProb(self, total_no_events):\n",
    "        \"\"\"\n",
    "        The values produced also form a slowly increasing linear function. compared to the exact counter.\n",
    "        \"\"\"\n",
    "        self.__init__()\n",
    "        self.total_no_events = total_no_events\n",
    "        for event_num in range(1, self.total_no_events+1):\n",
    "            self.expected_counts.update({event_num : self.FixedProbExpectedCount(num_events=event_num)})\n",
    "        self.PlotExpectedCount()\n",
    "\n",
    "\n",
    "    def DecreasingProb(self, total_no_events):\n",
    "        \"\"\"\n",
    "        computes expected count for each event and plots these values\n",
    "        \"\"\"\n",
    "        self.__init__()\n",
    "        self.total_no_events = total_no_events\n",
    "\n",
    "        for event_num in range(1, self.total_no_events+1):\n",
    "            self.recursive_counts = 0\n",
    "            self.expected_counts.update({event_num : self.DecreasingProbExpectedCount(num_events=event_num)})\n",
    "        # self.PlotExpectedCount()\n",
    "\n",
    "EC = ExpectedCounter()\n"
   ]
  },
  {
   "cell_type": "code",
   "execution_count": 233,
   "metadata": {},
   "outputs": [],
   "source": [
    "EC.DecreasingProb(total_no_events=20)"
   ]
  },
  {
   "cell_type": "code",
   "execution_count": 234,
   "metadata": {},
   "outputs": [
    {
     "data": {
      "text/plain": [
       "{1: (1, 0),\n",
       " 2: (1.7071067811865475, 1),\n",
       " 3: (2.2071067811865475, 2),\n",
       " 4: (2.560660171779821, 3),\n",
       " 5: (2.810660171779821, 4),\n",
       " 6: (2.987436867076458, 5),\n",
       " 7: (3.112436867076458, 6),\n",
       " 8: (3.200825214724776, 7),\n",
       " 9: (3.263325214724776, 8),\n",
       " 10: (3.3075193885489353, 9),\n",
       " 11: (3.3387693885489353, 10),\n",
       " 12: (3.360866475461015, 11),\n",
       " 13: (3.376491475461015, 12),\n",
       " 14: (3.387540018917055, 13),\n",
       " 15: (3.395352518917055, 14),\n",
       " 16: (3.400876790645075, 15),\n",
       " 17: (3.404783040645075, 16),\n",
       " 18: (3.407545176509085, 17),\n",
       " 19: (3.409498301509085, 18),\n",
       " 20: (3.4108793694410897, 19)}"
      ]
     },
     "execution_count": 234,
     "metadata": {},
     "output_type": "execute_result"
    }
   ],
   "source": [
    "EC.expected_counts"
   ]
  },
  {
   "cell_type": "code",
   "execution_count": 217,
   "metadata": {},
   "outputs": [
    {
     "data": {
      "text/plain": [
       "-2.8853900817779268"
      ]
     },
     "execution_count": 217,
     "metadata": {},
     "output_type": "execute_result"
    }
   ],
   "source": [
    "n=1\n",
    "((1/2)**((n-1)/2))/((1/2)*np.log(1/2))"
   ]
  },
  {
   "cell_type": "code",
   "execution_count": 196,
   "metadata": {},
   "outputs": [
    {
     "data": {
      "image/png": "[encoded data removed]",
      "text/plain": [
       "<Figure size 432x288 with 1 Axes>"
      ]
     },
     "metadata": {
      "needs_background": "light"
     },
     "output_type": "display_data"
    }
   ],
   "source": [
    "EC.Exact(total_no_events=20)"
   ]
  },
  {
   "cell_type": "code",
   "execution_count": 179,
   "metadata": {},
   "outputs": [
    {
     "data": {
      "text/plain": [
       "{1: 1,\n",
       " 2: 2,\n",
       " 3: 3,\n",
       " 4: 4,\n",
       " 5: 5,\n",
       " 6: 6,\n",
       " 7: 7,\n",
       " 8: 8,\n",
       " 9: 9,\n",
       " 10: 10,\n",
       " 11: 11,\n",
       " 12: 12,\n",
       " 13: 13,\n",
       " 14: 14,\n",
       " 15: 15,\n",
       " 16: 16,\n",
       " 17: 17,\n",
       " 18: 18,\n",
       " 19: 19}"
      ]
     },
     "execution_count": 179,
     "metadata": {},
     "output_type": "execute_result"
    }
   ],
   "source": [
    "EC.expected_counts"
   ]
  },
  {
   "cell_type": "code",
   "execution_count": 180,
   "metadata": {},
   "outputs": [
    {
     "data": {
      "image/png": "[encoded data removed]",
      "text/plain": [
       "<Figure size 432x288 with 1 Axes>"
      ]
     },
     "metadata": {
      "needs_background": "light"
     },
     "output_type": "display_data"
    }
   ],
   "source": [
    "EC.FixedProb(total_no_events=20)"
   ]
  },
  {
   "cell_type": "code",
   "execution_count": 181,
   "metadata": {},
   "outputs": [
    {
     "data": {
      "text/plain": [
       "{1: 1,\n",
       " 2: 1.5,\n",
       " 3: 2.0,\n",
       " 4: 2.5,\n",
       " 5: 3.0,\n",
       " 6: 3.5,\n",
       " 7: 4.0,\n",
       " 8: 4.5,\n",
       " 9: 5.0,\n",
       " 10: 5.5,\n",
       " 11: 6.0,\n",
       " 12: 6.5,\n",
       " 13: 7.0,\n",
       " 14: 7.5,\n",
       " 15: 8.0,\n",
       " 16: 8.5,\n",
       " 17: 9.0,\n",
       " 18: 9.5,\n",
       " 19: 10.0}"
      ]
     },
     "execution_count": 181,
     "metadata": {},
     "output_type": "execute_result"
    }
   ],
   "source": [
    "EC.expected_counts"
   ]
  },
  {
   "cell_type": "code",
   "execution_count": 188,
   "metadata": {},
   "outputs": [
    {
     "data": {
      "image/png": "[encoded data removed]",
      "text/plain": [
       "<Figure size 432x288 with 1 Axes>"
      ]
     },
     "metadata": {
      "needs_background": "light"
     },
     "output_type": "display_data"
    }
   ],
   "source": [
    "EC.DecreasingProb(total_no_events=50)"
   ]
  },
  {
   "cell_type": "code",
   "execution_count": 189,
   "metadata": {},
   "outputs": [
    {
     "data": {
      "text/plain": [
       "{1: 1,\n",
       " 2: 1.5,\n",
       " 3: 1.8535533905932737,\n",
       " 4: 2.1035533905932735,\n",
       " 5: 2.2803300858899105,\n",
       " 6: 2.4053300858899105,\n",
       " 7: 2.4937184335382288,\n",
       " 8: 2.5562184335382288,\n",
       " 9: 2.600412607362388,\n",
       " 10: 2.631662607362388,\n",
       " 11: 2.6537596942744677,\n",
       " 12: 2.6693846942744677,\n",
       " 13: 2.6804332377305076,\n",
       " 14: 2.6882457377305076,\n",
       " 15: 2.6937700094585275,\n",
       " 16: 2.6976762594585275,\n",
       " 17: 2.7004383953225375,\n",
       " 18: 2.7023915203225375,\n",
       " 19: 2.7037725882545423,\n",
       " 20: 2.7047491507545423,\n",
       " 21: 2.705439684720545,\n",
       " 22: 2.705927965970545,\n",
       " 23: 2.706273232953546,\n",
       " 24: 2.706517373578546,\n",
       " 25: 2.706690007070047,\n",
       " 26: 2.706812077382547,\n",
       " 27: 2.706898394128297,\n",
       " 28: 2.706959429284547,\n",
       " 29: 2.707002587657422,\n",
       " 30: 2.707033105235547,\n",
       " 31: 2.7070546844219847,\n",
       " 32: 2.707069943211047,\n",
       " 33: 2.707080732804266,\n",
       " 34: 2.7070883621987973,\n",
       " 35: 2.7070937569954068,\n",
       " 36: 2.7070975716926724,\n",
       " 37: 2.707100269090977,\n",
       " 38: 2.70710217643961,\n",
       " 39: 2.7071035251387623,\n",
       " 40: 2.7071044788130787,\n",
       " 41: 2.707105153162655,\n",
       " 42: 2.707105629999813,\n",
       " 43: 2.707105967174601,\n",
       " 44: 2.7071062055931803,\n",
       " 45: 2.707106374180574,\n",
       " 46: 2.7071064933898636,\n",
       " 47: 2.7071065776835606,\n",
       " 48: 2.7071066372882053,\n",
       " 49: 2.707106679435054}"
      ]
     },
     "execution_count": 189,
     "metadata": {},
     "output_type": "execute_result"
    }
   ],
   "source": [
    "EC.expected_counts"
   ]
  },
  {
   "cell_type": "code",
   "execution_count": null,
   "metadata": {},
   "outputs": [],
   "source": []
  },
  {
   "cell_type": "code",
   "execution_count": 194,
   "metadata": {},
   "outputs": [
    {
     "data": {
      "text/plain": [
       "2.548003196440262"
      ]
     },
     "execution_count": 194,
     "metadata": {},
     "output_type": "execute_result"
    }
   ],
   "source": [
    "(1/np.sqrt(2)**(0/2))+(1/np.sqrt(2)**(1/2))+(1/np.sqrt(2)**(2/2))"
   ]
  },
  {
   "cell_type": "code",
   "execution_count": null,
   "metadata": {},
   "outputs": [],
   "source": []
  }
 ],
 "metadata": {
  "interpreter": {
   "hash": "c11c31f54c6a1524bc46d512b04aae0b7af80f49ff982b19a79f63cf28c4a08a"
  },
  "kernelspec": {
   "display_name": "Python 3.8.8 64-bit ('cryptography': venv)",
   "language": "python",
   "name": "python3"
  },
  "language_info": {
   "codemirror_mode": {
    "name": "ipython",
    "version": 3
   },
   "file_extension": ".py",
   "mimetype": "text/x-python",
   "name": "python",
   "nbconvert_exporter": "python",
   "pygments_lexer": "ipython3",
   "version": "3.8.8"
  },
  "orig_nbformat": 4
 },
 "nbformat": 4,
 "nbformat_minor": 2
}
