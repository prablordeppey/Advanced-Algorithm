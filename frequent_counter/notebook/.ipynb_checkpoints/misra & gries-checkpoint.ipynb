{
 "cells": [
  {
   "cell_type": "code",
   "execution_count": 36,
   "metadata": {},
   "outputs": [],
   "source": [
    "import numpy as  np\n",
    "import pandas as pd\n",
    "from nltk import word_tokenize\n",
    "from nltk.corpus import stopwords\n",
    "import re, time, os"
   ]
  },
  {
   "cell_type": "code",
   "execution_count": 37,
   "metadata": {},
   "outputs": [],
   "source": [
    "class FrequentCounter:\n",
    "    def __init__(self):\n",
    "        self.register = dict()\n",
    "\n",
    "    def misraGries(self, k):\n",
    "        # update counter-value for element in stream by 1 if already registered.\n",
    "        if self.new_element in self.register:\n",
    "            self.register[self.new_element] += 1\n",
    "        else:\n",
    "            # if element isnt in register, only register element if max-number of counters (k) is not reached \n",
    "            if ( len(self.register) < (k-1) ):\n",
    "                self.register.update({self.new_element: 1})\n",
    "            else:\n",
    "                # if max-counters reached, decrease all counter value by 1.\n",
    "                for element in self.register.copy():\n",
    "                    self.register[element] -= 1\n",
    "                    # remove element from register if counter value is 0\n",
    "                    if self.register[element] == 0:\n",
    "                        del self.register[element]\n",
    "\n",
    "        self.register = dict(sorted(self.register.items(), key=lambda k:k[1], reverse=True))\n",
    "\n",
    "    def getMisraGries(self):\n",
    "        return self.register\n",
    "\n",
    "    def getExactFrequent(self):\n",
    "        \"\"\"computes the exact maximum occurring element in a data stream\n",
    "\n",
    "        Returns:.\n",
    "            tuple: most frequent word and its corresponding frequency in literary word\n",
    "        \"\"\"\n",
    "        # build register of words and corresponding frequency\n",
    "        temp_register = dict()\n",
    "        for word in self.stream:\n",
    "            if word not in temp_register:\n",
    "                temp_register.update({word: 1})\n",
    "            else:\n",
    "                temp_register[word] += 1\n",
    "\n",
    "        # sorting items in register by key/word\n",
    "        temp_register = dict(sorted(temp_register.items(), key=lambda k:k[1], reverse=True))\n",
    "        return temp_register"
   ]
  },
  {
   "cell_type": "code",
   "execution_count": 38,
   "metadata": {},
   "outputs": [],
   "source": [
    "class StreamAlg(FrequentCounter):\n",
    "    def __init__(self, stream):\n",
    "        \"\"\"\n",
    "        Parameters:\n",
    "            stream [float, int, string]: The list of values to represent a stream.\n",
    "            k [int]: the k-1 items that occur more than a 1/k fraction of the time in the input.\n",
    "                    : keeps at most k-1 candidates at the same time.\n",
    "        \"\"\"\n",
    "        self.stream = stream\n",
    "        FrequentCounter.__init__(self)\n",
    "        self.init = False\n",
    "\n",
    "    def exec(self, k):\n",
    "        \"\"\"\n",
    "        Passes each value of the data stream to the alg function for register update. \n",
    "        \"\"\"\n",
    "        for element in self.stream:\n",
    "            self.new_element = element\n",
    "            self.misraGries(k=k)\n"
   ]
  },
  {
   "cell_type": "code",
   "execution_count": 39,
   "metadata": {},
   "outputs": [],
   "source": [
    "def filePreprocessor(file_path):\n",
    "    \"\"\"formats file content and remove all stop words in the respective language.\n",
    "\n",
    "    Args:\n",
    "        file_path (str): path to literary work\n",
    "\n",
    "    Returns:\n",
    "        list: tokenized valid words in the literary work.\n",
    "    \"\"\"\n",
    "    file_language = re.findall('.*-(\\w+).*', file_path)  # get language of literary work\n",
    "    with open(file_path, 'r', encoding=\"utf-8\") as f:\n",
    "        file_content = f.readlines()\n",
    "        file_content = ''.join(file_content).lower()  # convert lines to string\n",
    "        stopset = set(stopwords.words(file_language))  # get all stopwords in respective language\n",
    "        tokens = word_tokenize(file_content)  # convert strings to list\n",
    "        return [token.lower() for token in tokens if token not in stopset and len(token) > 2]  # perform actual cleanup"
   ]
  },
  {
   "cell_type": "code",
   "execution_count": 40,
   "metadata": {},
   "outputs": [
    {
     "name": "stdout",
     "output_type": "stream",
     "text": [
      "Working on aMidsummerNightsDream-english.txt\n",
      "length of token 9060\n",
      "number of unique tokens: 2883 it took: 0.01563286781311035 secs\n",
      "number of k considered: 102\n",
      "It took: 17.40912127494812 secs\n",
      "--------------------------------------\n",
      "Done!!!\n"
     ]
    }
   ],
   "source": [
    "# get all literary works under study\n",
    "literary_works_dir = 'shakespeare'\n",
    "literary_works_path = os.path.join(os.getcwd(), literary_works_dir)\n",
    "literary_works = os.listdir(literary_works_path) \n",
    "\n",
    "for literary_work in literary_works:\n",
    "    print('Working on', literary_work)\n",
    "\n",
    "    file_path = os.path.join(literary_works_dir, literary_work) #  construct the file path\n",
    "    file_tokenized = filePreprocessor(file_path)\n",
    "    print('length of token', len(file_tokenized))\n",
    "\n",
    "    FC = StreamAlg(file_tokenized)\n",
    "    \n",
    "    start_exact = time.time()\n",
    "    exact = FC.getExactFrequent()\n",
    "    print('number of unique tokens:', len(exact), 'it took:', (time.time()-start_exact), 'secs')\n",
    "    \n",
    "    register_df = pd.DataFrame(exact.keys(), columns=['exact'])  # registering exact rankings.\n",
    "    \n",
    "    n_ks = [_ for _ in range(2, 202, 2)] + [len(exact)//2, len(exact)+1]  # list of k to consider\n",
    "    print('number of k considered:', len(n_ks))\n",
    "    \n",
    "    start_misragries = time.time()\n",
    "    reg = {}\n",
    "    for k in n_ks:\n",
    "        # perform misra_gries for each k\n",
    "        FC.exec(k)\n",
    "        misra_gries = FC.getMisraGries()\n",
    "\n",
    "        if len(misra_gries) > 0:\n",
    "            m_g_series = pd.Series(misra_gries.keys())\n",
    "            reg.update({f'k{k}': m_g_series})\n",
    "    print('It took:', (time.time()-start_misragries), 'secs')\n",
    "    \n",
    "    register_df = pd.concat([register_df, pd.DataFrame(reg)], axis=1)\n",
    "    register_df.index = range(1, len(register_df)+1)  # reformat index to depict ranking order\n",
    "    register_df.to_csv('./output/'+literary_work.split('.')[0]+'.csv', index_label='rank')\n",
    "\n",
    "    stop_ = time.time()\n",
    "\n",
    "    print('-'*40)\n",
    "print('Done!!!')\n"
   ]
  },
  {
   "cell_type": "code",
   "execution_count": null,
   "metadata": {},
   "outputs": [],
   "source": []
  },
  {
   "cell_type": "code",
   "execution_count": null,
   "metadata": {},
   "outputs": [],
   "source": []
  }
 ],
 "metadata": {
  "interpreter": {
   "hash": "c11c31f54c6a1524bc46d512b04aae0b7af80f49ff982b19a79f63cf28c4a08a"
  },
  "kernelspec": {
   "display_name": "Python 3 (ipykernel)",
   "language": "python",
   "name": "python3"
  },
  "language_info": {
   "codemirror_mode": {
    "name": "ipython",
    "version": 3
   },
   "file_extension": ".py",
   "mimetype": "text/x-python",
   "name": "python",
   "nbconvert_exporter": "python",
   "pygments_lexer": "ipython3",
   "version": "3.8.12"
  }
 },
 "nbformat": 4,
 "nbformat_minor": 2
}
